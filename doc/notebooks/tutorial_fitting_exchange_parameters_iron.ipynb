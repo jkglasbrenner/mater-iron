{
 "cells": [
  {
   "cell_type": "markdown",
   "metadata": {},
   "source": [
    "# A tutorial on fitting exchange parameters to DFT energies<br/>The Case of Iron\n",
    "\n",
    "James K. Glasbrenner\n",
    "\n",
    "November 28, 2017"
   ]
  },
  {
   "cell_type": "code",
   "execution_count": null,
   "metadata": {
    "collapsed": true
   },
   "outputs": [],
   "source": [
    "# SETUP BLOCK\n",
    "import pymatgen as pmg\n",
    "from pymatgen.transformations.standard_transformations import (\n",
    "    RotationTransformation, SupercellTransformation)\n",
    "from pymatgen.analysis.structure_analyzer import OrderParameters"
   ]
  },
  {
   "cell_type": "markdown",
   "metadata": {},
   "source": [
    "## Theoretical background"
   ]
  },
  {
   "cell_type": "markdown",
   "metadata": {},
   "source": [
    "## Generate the crystal structure using pymatgen"
   ]
  },
  {
   "cell_type": "markdown",
   "metadata": {},
   "source": [
    "At room temperature, [iron has the following crystal structure][iron-crystal]:\n",
    "\n",
    "*   Structure: BCC\n",
    "*   Space group: Im-3m\n",
    "*   Space group number: 229\n",
    "*   Lattice constants\n",
    "    *   $a = 2.8665 \\text{ Å}$.\n",
    "    \n",
    "This is a straightforward crystal structure and can easily be constructed by hand.\n",
    "However, we will make use of the Python library `pymatgen`, which allows us to construct and manipulate crystal structures in a systematic and reproducible way.\n",
    "\n",
    "<!-- Implicit links -->\n",
    "\n",
    "[iron-crystal]: https://www.webelements.com/iron/crystal_structure.html"
   ]
  },
  {
   "cell_type": "code",
   "execution_count": null,
   "metadata": {
    "collapsed": true
   },
   "outputs": [],
   "source": [
    "iron = {\n",
    "    \"spacegroup\": 229,\n",
    "    \"lattice\": {\n",
    "        \"lengths\": (2.8665, 2.8665, 2.8665),\n",
    "        \"angles\": (90, 90, 90)\n",
    "    },\n",
    "    \"structure\": {\n",
    "        \"species\": [\"Fe\"],\n",
    "        \"basis_coordinates\": [[0.00, 0.00, 0.00]]\n",
    "    },\n",
    "    \"pymatgen\": {\n",
    "        \"lattice\": None,\n",
    "        \"structure\": None\n",
    "    }\n",
    "}"
   ]
  },
  {
   "cell_type": "code",
   "execution_count": null,
   "metadata": {
    "collapsed": true
   },
   "outputs": [],
   "source": [
    "iron[\"pymatgen\"][\"lattice\"] = pmg.Lattice.from_lengths_and_angles(\n",
    "    abc=iron[\"lattice\"][\"lengths\"],\n",
    "    ang=iron[\"lattice\"][\"angles\"]\n",
    ")\n",
    "\n",
    "iron[\"pymatgen\"][\"structure\"] = pmg.Structure.from_spacegroup(\n",
    "    sg=iron[\"spacegroup\"],\n",
    "    lattice=iron[\"pymatgen\"][\"lattice\"],\n",
    "    species=iron[\"structure\"][\"species\"],\n",
    "    coords=iron[\"structure\"][\"basis_coordinates\"]\n",
    ")"
   ]
  },
  {
   "cell_type": "code",
   "execution_count": null,
   "metadata": {
    "collapsed": true
   },
   "outputs": [],
   "source": [
    "# Code to find neighbors (needs fixing)\n",
    "\n",
    "for site_index, site_neighbors in enumerate(all_neighbors):\n",
    "    site_sublattice_id = pmg_structure[site_index].properties[\"sublattice\"]\n",
    "    unique_site_distances = unique_sublattice_distances[\"{0}\".format(\n",
    "        site_sublattice_id)]\n",
    "\n",
    "    for neighbor in site_neighbors:\n",
    "        neighbor_sublattice_id = neighbor[0].properties[\"sublattice\"]\n",
    "        neighbor_distance = neighbor[1]\n",
    "        unique_neighbor_distances = unique_site_distances[\"{0}\".format(\n",
    "            neighbor_sublattice_id)]\n",
    "        new_distance_test = [\n",
    "            math.isclose(neighbor_distance, x)\n",
    "            for x in unique_neighbor_distances\n",
    "        ]\n",
    "        if not any(new_distance_test):\n",
    "            unique_neighbor_distances.append(neighbor_distance)\n",
    "\n",
    "# Sort unique distances between sublattice-sublattice pairs\n",
    "for sublattice_pairs in unique_sublattice_distances.values():\n",
    "    for unique_distances in sublattice_pairs.values():\n",
    "        unique_distances.sort()\n",
    "\n",
    "all_neighbors_sorted = []\n",
    "for site_index, site_neighbors in enumerate(all_neighbors):\n",
    "    site_sublattice_id = pmg_structure[site_index].properties[\"sublattice\"]\n",
    "    unique_site_distances = unique_sublattice_distances[\"{0}\".format(\n",
    "        site_sublattice_id)]\n",
    "\n",
    "    site_neighbors_numbered = []\n",
    "    for neighbor in site_neighbors:\n",
    "        neighbor_sublattice_id = neighbor[0].properties[\"sublattice\"]\n",
    "        neighbor_distance = neighbor[1]\n",
    "        unique_neighbor_distances = unique_site_distances[\"{0}\".format(\n",
    "            neighbor_sublattice_id)]\n",
    "        for neighbor_number, test_distance in enumerate(\n",
    "                unique_neighbor_distances, start=1):\n",
    "            if math.isclose(neighbor_distance, test_distance):\n",
    "                update_row = [x for x in neighbor]\n",
    "                update_row[1] = tuple([update_row[1], neighbor_number])\n",
    "        site_neighbors_numbered.append(tuple(update_row))\n",
    "\n",
    "    site_neighbors_sorted = sorted(\n",
    "        site_neighbors_numbered,\n",
    "        key=lambda x: (x[0].properties[\"sublattice\"], x[1][1]))\n",
    "\n",
    "    all_neighbors_sorted.append(site_neighbors_sorted)\n",
    "\n",
    "all_neighbors_reduced = []\n",
    "for site_neighbors in all_neighbors_sorted:\n",
    "    grouped_neighbors = groupby_list(\n",
    "        iterable=site_neighbors,\n",
    "        key=lambda x: (x[0].properties[\"sublattice\"], x[1][1]))\n",
    "    site_neighbors_reduced = []\n",
    "    for neighbor in grouped_neighbors:\n",
    "        neighbor_sublattice_id = neighbor[0][0]\n",
    "        neighbor_number = neighbor[0][1]\n",
    "        neighbor_list = neighbor[1]\n",
    "        neighbor_indices = tuple(x[2] for x in neighbor_list)\n",
    "        site_neighbors_reduced.append((neighbor_sublattice_id,\n",
    "                                       neighbor_number, neighbor_indices))\n",
    "    all_neighbors_reduced.append(site_neighbors_reduced)\n",
    "\n",
    "build_dataframe = []\n",
    "for site_index, site_neighbors in enumerate(all_neighbors_reduced):\n",
    "    site_sublattice_id = pmg_structure[site_index].properties[\"sublattice\"]\n",
    "    for grouped_neighbors in site_neighbors:\n",
    "        neighbor_sublattice_id = grouped_neighbors[0]\n",
    "        neighbor_number = grouped_neighbors[1]\n",
    "        neighbor_indices = grouped_neighbors[2]\n",
    "        for neighbor_index in neighbor_indices:\n",
    "            build_dataframe.append(\n",
    "                tuple((site_index, neighbor_index, site_sublattice_id,\n",
    "                       neighbor_sublattice_id, neighbor_number)))\n",
    "neighbors_df = np.array(build_dataframe, dtype={\n",
    "    \"names\": [\n",
    "        \"site_i\", \"site_j\", \"sublattice_i\", \"sublattice_j\",\n",
    "        \"neighbor_number\"\n",
    "    ],\n",
    "    \"formats\": [\"i8\", \"i8\", \"i8\", \"i8\", \"i8\"]\n",
    "})\n",
    "neighbors_df = pd.DataFrame(data=neighbors_df)\n",
    "\n",
    "build_dataframe = []\n",
    "for (site_sublattice_id,\n",
    "     neighbor_sublattice_distances) in unique_sublattice_distances.items():\n",
    "    for (neighbor_sublattice_id,\n",
    "         neighbor_distances) in neighbor_sublattice_distances.items():\n",
    "        for neighbor_number, distance in enumerate(neighbor_distances,\n",
    "                                                   start=1):\n",
    "            build_dataframe.append(\n",
    "                tuple((site_sublattice_id, neighbor_sublattice_id,\n",
    "                       neighbor_number, distance)))\n",
    "distances_df = np.array(build_dataframe, dtype={\n",
    "    \"names\":\n",
    "    [\"sublattice_i\", \"sublattice_j\", \"neighbor_number\", \"distance\"],\n",
    "    \"formats\": [\"i8\", \"i8\", \"i8\", \"f8\"]\n",
    "})\n",
    "distances_df = pd.DataFrame(data=distances_df)\n"
   ]
  },
  {
   "cell_type": "code",
   "execution_count": null,
   "metadata": {
    "collapsed": true
   },
   "outputs": [],
   "source": []
  }
 ],
 "metadata": {
  "kernelspec": {
   "display_name": "Python 3",
   "language": "python",
   "name": "python3"
  },
  "language_info": {
   "codemirror_mode": {
    "name": "ipython",
    "version": 3
   },
   "file_extension": ".py",
   "mimetype": "text/x-python",
   "name": "python",
   "nbconvert_exporter": "python",
   "pygments_lexer": "ipython3",
   "version": "3.6.1"
  }
 },
 "nbformat": 4,
 "nbformat_minor": 2
}
