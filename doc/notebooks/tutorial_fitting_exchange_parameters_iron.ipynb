{
 "cells": [
  {
   "cell_type": "markdown",
   "metadata": {},
   "source": [
    "# A tutorial on fitting exchange parameters to DFT energies<br/>The Case of Iron\n",
    "\n",
    "James K. Glasbrenner\n",
    "\n",
    "November 28, 2017"
   ]
  },
  {
   "cell_type": "code",
   "execution_count": null,
   "metadata": {},
   "outputs": [],
   "source": [
    "# SETUP BLOCK\n",
    "%matplotlib inline\n",
    "import pandas as pd\n",
    "import pymatgen as pmg\n",
    "import numpy as np\n",
    "from pymatgen.transformations.standard_transformations import (\n",
    "    RotationTransformation, SupercellTransformation)\n",
    "from pymatgen.analysis.structure_analyzer import OrderParameters\n",
    "from sklearn import linear_model\n",
    "from sklearn import preprocessing\n",
    "from sklearn.metrics import mean_squared_error, r2_score\n",
    "\n",
    "# R\n",
    "from rpy2.robjects import pandas2ri, default_converter, StrVector\n",
    "from rpy2.robjects.conversion import localconverter\n",
    "from rpy2.robjects.lib.tidyr import DataFrame as tibble\n",
    "from rpy2.robjects.lib.dplyr import (mutate,\n",
    "                                     group_by,\n",
    "                                     summarize,\n",
    "                                     select,\n",
    "                                     left_join)\n",
    "from rpy2.robjects.lib.dplyr import filter as rfilter"
   ]
  },
  {
   "cell_type": "markdown",
   "metadata": {},
   "source": [
    "## Theoretical background"
   ]
  },
  {
   "cell_type": "markdown",
   "metadata": {},
   "source": [
    "## Generate the crystal structure using pymatgen"
   ]
  },
  {
   "cell_type": "markdown",
   "metadata": {},
   "source": [
    "At room temperature, [iron has the following crystal structure][iron-crystal]:\n",
    "\n",
    "*   Structure: BCC\n",
    "*   Space group: Im-3m\n",
    "*   Space group number: 229\n",
    "*   Lattice constants\n",
    "    *   $a = 2.8665 \\text{ Å}$.\n",
    "    \n",
    "This is a straightforward crystal structure and can easily be constructed by hand.\n",
    "However, we will make use of the Python library `pymatgen`, which allows us to construct and manipulate crystal structures in a systematic and reproducible way.\n",
    "\n",
    "<!-- Implicit links -->\n",
    "\n",
    "[iron-crystal]: https://www.webelements.com/iron/crystal_structure.html"
   ]
  },
  {
   "cell_type": "code",
   "execution_count": null,
   "metadata": {},
   "outputs": [],
   "source": [
    "iron = {\n",
    "    \"spacegroup\": 229,\n",
    "    \"lattice\": {\n",
    "        \"lengths\": (2.8665, 2.8665, 2.8665),\n",
    "        \"angles\": (90, 90, 90)\n",
    "    },\n",
    "    \"structure\": {\n",
    "        \"species\": [\"Fe\"],\n",
    "        \"basis_coordinates\": [[0.00, 0.00, 0.00]]\n",
    "    },\n",
    "    \"pymatgen\": {\n",
    "        \"lattice\": None,\n",
    "        \"structure\": None\n",
    "    }\n",
    "}"
   ]
  },
  {
   "cell_type": "code",
   "execution_count": null,
   "metadata": {},
   "outputs": [],
   "source": [
    "iron[\"pymatgen\"][\"lattice\"] = pmg.Lattice.from_lengths_and_angles(\n",
    "    abc=iron[\"lattice\"][\"lengths\"],\n",
    "    ang=iron[\"lattice\"][\"angles\"]\n",
    ")\n",
    "\n",
    "iron[\"pymatgen\"][\"structure\"] = pmg.Structure.from_spacegroup(\n",
    "    sg=iron[\"spacegroup\"],\n",
    "    lattice=iron[\"pymatgen\"][\"lattice\"],\n",
    "    species=iron[\"structure\"][\"species\"],\n",
    "    coords=iron[\"structure\"][\"basis_coordinates\"]\n",
    ")"
   ]
  },
  {
   "cell_type": "markdown",
   "metadata": {},
   "source": [
    "To construct the spin Hamiltonian, we need to sub-divide the crystal into sub-lattices.\n",
    "In a supercell with a cubic lattice, each basis atom corresponds to a separate sub-lattice (note that some sublattices may be equivalent due to symmetry).\n",
    "The default cubic cell that `pymatgen` has given us is as follows:"
   ]
  },
  {
   "cell_type": "code",
   "execution_count": null,
   "metadata": {},
   "outputs": [],
   "source": [
    "fe = iron[\"pymatgen\"][\"structure\"]\n",
    "fe"
   ]
  },
  {
   "cell_type": "markdown",
   "metadata": {},
   "source": [
    "There are two basis atoms, one located at `(0, 0, 0)` and the other at `(0.5, 0.5, 0.5)`.\n",
    "We will call these sublattices 1 and 2.\n",
    "We use the `add_site_property` method to embed this label into the structure object:"
   ]
  },
  {
   "cell_type": "code",
   "execution_count": null,
   "metadata": {},
   "outputs": [],
   "source": [
    "fe.add_site_property(\"sublattice\", [1, 2])"
   ]
  },
  {
   "cell_type": "markdown",
   "metadata": {},
   "source": [
    "Next, we want to find the intra- and inter-sublattice neighbors for each site up to a given distance.\n",
    "Within the intra- and inter-sublattice groups, we will additionally group by distance.\n",
    "For our model, interactions between sites the same distance apart within an intra- or inter-sublattice grouping are considered to be equivalent.\n",
    "Thus, we only need to count how many of these equivalent neighbors we have, and afterwards we can start constructing the coefficients within our Heisenberg model.\n",
    "\n",
    "We use the neighbor finding method in `pymatgen` to grab the relevant neighbors:"
   ]
  },
  {
   "cell_type": "code",
   "execution_count": null,
   "metadata": {},
   "outputs": [],
   "source": [
    "neighbors = fe.get_all_neighbors(r=4.5, include_index=True)"
   ]
  },
  {
   "cell_type": "markdown",
   "metadata": {},
   "source": [
    "For convenience, we convert the information in `neighbors` into a `pandas` data frame:"
   ]
  },
  {
   "cell_type": "code",
   "execution_count": null,
   "metadata": {},
   "outputs": [],
   "source": [
    "neighbor_distances = []\n",
    "for site_i, site_neighbors in enumerate(neighbors):\n",
    "    sublattice_i = fe[site_i].properties[\"sublattice\"]\n",
    "    neighbor_distances.extend([\n",
    "       [site_i, site_j[2], sublattice_i, fe[site_j[2]].properties[\"sublattice\"], site_j[1]]\n",
    "       for site_j in site_neighbors\n",
    "   ])\n",
    "neighbor_distances = pd.DataFrame(\n",
    "    data=neighbor_distances, columns=(\"i\", \"j\", \"sublattice_i\", \"sublattice_j\", \"distance\"))"
   ]
  },
  {
   "cell_type": "markdown",
   "metadata": {},
   "source": [
    "We then use the `groupby` method to help us find the unique distances within intra- and inter-sublattice groups and count the number of sites that fall within a grouping.\n",
    "After iterating over all the basis sites, we then divide the counts by the number of atoms in the cell in order to normalize our result."
   ]
  },
  {
   "cell_type": "code",
   "execution_count": null,
   "metadata": {},
   "outputs": [],
   "source": [
    "grouped_neighbors = neighbor_distances.round(decimals=7).groupby(\n",
    "    [\"sublattice_i\", \"sublattice_j\", \"distance\"])\n",
    "nn_list = []\n",
    "for group in grouped_neighbors:\n",
    "    group[1][\"sublattice_i\"].unique()\n",
    "    nn_list.append(\n",
    "        [group[0][0],\n",
    "         group[0][1],\n",
    "         group[0][2],\n",
    "         np.int(group[1][\"distance\"].count() / len(neighbors))\n",
    "        ]\n",
    "    )\n",
    "\n",
    "neighbor_counts = pd.DataFrame(data=nn_list, columns=(\"sublattice_i\", \"sublattice_j\", \"distance\", \"count\")).sort_values([\"distance\"])\n",
    "neighbor_counts"
   ]
  },
  {
   "cell_type": "markdown",
   "metadata": {},
   "source": [
    "Next, let's associate the different exchange parameters with the different sublattice combinations:"
   ]
  },
  {
   "cell_type": "code",
   "execution_count": null,
   "metadata": {},
   "outputs": [],
   "source": [
    "neighbor_counts[\"exchange\"] = [\"J1\", \"J1\", \"J2\", \"J2\", \"J3\", \"J3\"]"
   ]
  },
  {
   "cell_type": "markdown",
   "metadata": {},
   "source": [
    "Define the magnetic patterns by specifying the spin directions on each sublattice and labelling it:"
   ]
  },
  {
   "cell_type": "code",
   "execution_count": null,
   "metadata": {},
   "outputs": [],
   "source": [
    "magnetic_states = pd.DataFrame(data={\n",
    "    \"sublattice_i\": [1, 1, 2, 2, 1, 1, 2, 2],\n",
    "    \"sublattice_j\": [1, 2, 1, 2, 1, 2, 1, 2],\n",
    "    \"spin_i\": [1, 1, 1, 1, 1, 1, -1, -1],\n",
    "    \"spin_j\": [1, 1, 1, 1, 1, -1, 1, -1],\n",
    "    \"pattern\": [\"FM\", \"FM\", \"FM\", \"FM\", \"AFM\", \"AFM\", \"AFM\", \"AFM\"]\n",
    "})"
   ]
  },
  {
   "cell_type": "markdown",
   "metadata": {},
   "source": [
    "Use the `rpy2` package to call up an `R` instance for data manipulation (I know how to use `dplyr` better than `pandas`), and use all our data frames to compute the Hamiltonian coefficients:"
   ]
  },
  {
   "cell_type": "code",
   "execution_count": null,
   "metadata": {},
   "outputs": [],
   "source": [
    "with localconverter(default_converter + pandas2ri.converter) as cv:\n",
    "    pairwise_interaction = (\n",
    "        tibble(magnetic_states).\n",
    "        mutate(interaction = \"-(spin_i * spin_j)\").\n",
    "        select(\"sublattice_i\", \"sublattice_j\", \"pattern\", \"interaction\"))\n",
    "\n",
    "    hamiltonian_coefficients = (\n",
    "        tibble(neighbor_counts).\n",
    "        left_join(pairwise_interaction, by = StrVector([\"sublattice_i\", \"sublattice_j\"])).\n",
    "        group_by(\"pattern\", \"exchange\").\n",
    "        summarize(coeff = \"sum(count * interaction)\").\n",
    "        arrange(\"desc(pattern)\"))\n",
    "\n",
    "pairwise_interaction = pandas2ri.converter.ri2py(pairwise_interaction)\n",
    "hamiltonian_coefficients = pandas2ri.converter.ri2py(hamiltonian_coefficients)"
   ]
  },
  {
   "cell_type": "markdown",
   "metadata": {},
   "source": [
    "The table of coefficients is therefore:"
   ]
  },
  {
   "cell_type": "code",
   "execution_count": null,
   "metadata": {},
   "outputs": [],
   "source": [
    "hamiltonian_coefficients"
   ]
  },
  {
   "cell_type": "markdown",
   "metadata": {},
   "source": [
    "The DFT energies we have are:"
   ]
  },
  {
   "cell_type": "code",
   "execution_count": null,
   "metadata": {},
   "outputs": [],
   "source": [
    "dft_nm = -2569.13251613 * pmg.units.Ha_to_eV / 2\n",
    "dft = pd.DataFrame(data={\n",
    "    \"energy\": [\n",
    "        -2569.17660341 * pmg.units.Ha_to_eV / 2 - dft_nm,\n",
    "        -2569.14233549 * pmg.units.Ha_to_eV / 2 - dft_nm\n",
    "    ],\n",
    "    \"pattern\": [\"FM\", \"AFM\"]})\n",
    "dft"
   ]
  },
  {
   "cell_type": "markdown",
   "metadata": {},
   "source": [
    "Preprocess the dataframe to suit linear regression:"
   ]
  },
  {
   "cell_type": "code",
   "execution_count": null,
   "metadata": {},
   "outputs": [],
   "source": [
    "final_df = hamiltonian_coefficients.join(dft.set_index(\"pattern\"), on=\"pattern\")\n",
    "with localconverter(default_converter + pandas2ri.converter) as cv:\n",
    "    final_df = (tibble(final_df).\n",
    "                spread(key = \"exchange\", value = \"coeff\").\n",
    "                select(\"J1\", \"J2\", \"energy\"))\n",
    "\n",
    "final_df = pandas2ri.ri2py(final_df)\n",
    "explanatory = final_df[[\"J1\"]]\n",
    "response = final_df[\"energy\"]"
   ]
  },
  {
   "cell_type": "markdown",
   "metadata": {},
   "source": [
    "Run the fitting procedure:"
   ]
  },
  {
   "cell_type": "code",
   "execution_count": null,
   "metadata": {},
   "outputs": [],
   "source": [
    "# Create linear regression object\n",
    "lm = linear_model.LinearRegression()\n",
    "\n",
    "# Train the model using the training sets\n",
    "lm.fit(explanatory, response)\n",
    "\n",
    "# Make predictions using the testing set\n",
    "energy_pred = lm.predict(explanatory) * 1000\n",
    "print(energy_pred, lm.coef_ * 1000, lm.intercept_ * 1000)"
   ]
  }
 ],
 "metadata": {
  "kernelspec": {
   "display_name": "Python 3",
   "language": "python",
   "name": "python3"
  },
  "language_info": {
   "codemirror_mode": {
    "name": "ipython",
    "version": 3
   },
   "file_extension": ".py",
   "mimetype": "text/x-python",
   "name": "python",
   "nbconvert_exporter": "python",
   "pygments_lexer": "ipython3",
   "version": "3.6.3"
  }
 },
 "nbformat": 4,
 "nbformat_minor": 2
}
